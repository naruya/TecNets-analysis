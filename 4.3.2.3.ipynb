{
 "cells": [
  {
   "cell_type": "markdown",
   "metadata": {},
   "source": [
    "# k-shot"
   ]
  },
  {
   "cell_type": "markdown",
   "metadata": {},
   "source": [
    "## 精度が上がることは、4.4で見る。ここでは分散が小さくなることだけ確認"
   ]
  },
  {
   "cell_type": "raw",
   "metadata": {},
   "source": [
    "scp db:/share2/matsushima/works\n",
    "pace/meta_train/tecnet_np/logs/20190704-131753/emb_epoch7200_0.0010.pt ./ && sudo mv emb* ~/workspace/analysis/models_penuts/"
   ]
  },
  {
   "cell_type": "code",
   "execution_count": 1,
   "metadata": {},
   "outputs": [
    {
     "data": {
      "text/plain": [
       "IncompatibleKeys(missing_keys=[], unexpected_keys=[])"
      ]
     },
     "execution_count": 1,
     "metadata": {},
     "output_type": "execute_result"
    }
   ],
   "source": [
    "from emb_net import TaskEmbeddingNet as PENUTS\n",
    "import torch\n",
    "\n",
    "model_path = \"./models_penuts/emb_epoch24500_0.0010_np_45.pt\"\n",
    "z_dim = 10\n",
    "disable_pz = False\n",
    "clip_siigma = False\n",
    "\n",
    "emb_net = PENUTS(z_dim=z_dim, disable_layernorm_fc=True).to(\"cuda\")\n",
    "emb_net.load_state_dict(torch.load(model_path, map_location=\"cuda\"))"
   ]
  },
  {
   "cell_type": "markdown",
   "metadata": {},
   "source": [
    "## Normal, Freeze, Random, No-Obj, Hidden"
   ]
  },
  {
   "cell_type": "code",
   "execution_count": 2,
   "metadata": {},
   "outputs": [
    {
     "name": "stdout",
     "output_type": "stream",
     "text": [
      "\u001b[0m\u001b[01;34mFreeze\u001b[0m/  \u001b[01;34mHidden50\u001b[0m/  \u001b[01;34mHidden64\u001b[0m/  \u001b[01;34mNo_Obj\u001b[0m/  \u001b[01;34mNormal\u001b[0m/  \u001b[01;34mRandom\u001b[0m/\n"
     ]
    }
   ],
   "source": [
    "ls demos/"
   ]
  },
  {
   "cell_type": "code",
   "execution_count": 3,
   "metadata": {},
   "outputs": [],
   "source": [
    "test_dir = \"../data/mil_data/data_mini/sim_push_test/\""
   ]
  },
  {
   "cell_type": "code",
   "execution_count": 4,
   "metadata": {},
   "outputs": [],
   "source": [
    "import os\n",
    "from glob import glob\n",
    "from natsort import natsorted\n",
    "demo_paths_normal = natsorted(glob(os.path.join(\"./demos_mini/Normal\", \"*.gif\")))\n",
    "demo_paths_freeze = natsorted(glob(os.path.join(\"./demos_mini/Freeze\", \"*.gif\")))\n",
    "demo_paths_random = natsorted(glob(os.path.join(\"./demos_mini/Random\", \"*.gif\")))\n",
    "demo_paths_no_obj = natsorted(glob(os.path.join(\"./demos_mini/No_Obj/\", \"*.gif\")))\n",
    "demo_paths_hidden64 = natsorted(glob(os.path.join(\"./demos_mini/Hidden64\", \"*.gif\")))"
   ]
  },
  {
   "cell_type": "code",
   "execution_count": 5,
   "metadata": {},
   "outputs": [],
   "source": [
    "demo_paths_all = {\"Normal\":demo_paths_normal, \"Freeze\":demo_paths_freeze, \\\n",
    "                  \"Random\":demo_paths_random, \"No_Obj\":demo_paths_no_obj, \\\n",
    "                  \"Hidden\":demo_paths_hidden64}"
   ]
  },
  {
   "cell_type": "code",
   "execution_count": 6,
   "metadata": {},
   "outputs": [],
   "source": [
    "import numpy as np\n",
    "from utils import vread, poe, make_emb_input\n",
    "from torch.distributions import Normal\n",
    "\n",
    "def embedding_np(demo_path, disable_pz, clip_sigma, z_dim):\n",
    "    inp = make_emb_input(demo_path).to(\"cuda\")\n",
    "    \n",
    "    with torch.no_grad():\n",
    "        train_mu, train_logvar = torch.split(emb_net(inp), z_dim, dim=1)\n",
    "    if not clip_sigma:\n",
    "        train_scale = torch.exp(0.5 * train_logvar)\n",
    "    else:\n",
    "        train_scale = 0.1 + 0.9 * torch.sigmoid(train_logvar)\n",
    "    if disable_pz:\n",
    "        prior = Normal(train_mu, train_scale)\n",
    "    else:\n",
    "        standard_normal = Normal(torch.zeros(1, z_dim).to(\"cuda\"), torch.ones(1, z_dim).to(\"cuda\"))\n",
    "        prior = poe(standard_normal, Normal(train_mu, train_scale), z_dim)\n",
    "    # z = prior.mean\n",
    "    return prior # {\"mean\": prior.mean.cpu().numpy()[0], \"stddev\":prior.stddev.cpu().numpy()[0]}"
   ]
  },
  {
   "cell_type": "code",
   "execution_count": 7,
   "metadata": {},
   "outputs": [],
   "source": [
    "def add_demo(prior, demo_path, clip_sigma, z_dim):\n",
    "    inp = make_emb_input(demo_path).to(\"cuda\")\n",
    "    with torch.no_grad():\n",
    "        test_mu, test_logvar = torch.split(emb_net(inp), z_dim, dim=1)\n",
    "    if not clip_sigma:\n",
    "        test_scale = torch.exp(0.5*test_logvar)\n",
    "    else:\n",
    "        test_scale = 0.1 + 0.9 * torch.sigmoid(test_logvar)\n",
    "    posterior = poe(prior, Normal(test_mu, test_scale), z_dim)\n",
    "    return posterior"
   ]
  },
  {
   "cell_type": "markdown",
   "metadata": {},
   "source": [
    "## 1回サンプリング"
   ]
  },
  {
   "cell_type": "code",
   "execution_count": 25,
   "metadata": {},
   "outputs": [],
   "source": [
    "import random\n",
    "\n",
    "z1 = []\n",
    "for i in range(30):\n",
    "    path = random.choice(demo_paths_normal)\n",
    "    prior = embedding_np(path, disable_pz, clip_siigma, z_dim)\n",
    "    z1.append(prior)"
   ]
  },
  {
   "cell_type": "markdown",
   "metadata": {},
   "source": [
    "## 2回サンプリング"
   ]
  },
  {
   "cell_type": "code",
   "execution_count": 26,
   "metadata": {},
   "outputs": [],
   "source": [
    "import random\n",
    "\n",
    "z2 = []\n",
    "for i in range(30):\n",
    "    path = random.choice(demo_paths_normal)\n",
    "    prior = embedding_np(path, disable_pz, clip_siigma, z_dim)\n",
    "    path = random.choice(demo_paths_normal)\n",
    "    prior = add_demo(prior, path, clip_siigma, z_dim)\n",
    "    z2.append(prior)"
   ]
  },
  {
   "cell_type": "markdown",
   "metadata": {},
   "source": [
    "## 3回サンプリング"
   ]
  },
  {
   "cell_type": "code",
   "execution_count": 27,
   "metadata": {},
   "outputs": [],
   "source": [
    "import random\n",
    "\n",
    "z3 = []\n",
    "for i in range(30):\n",
    "    path = random.choice(demo_paths_normal)\n",
    "    prior = embedding_np(path, disable_pz, clip_siigma, z_dim)\n",
    "    path = random.choice(demo_paths_normal)\n",
    "    prior = add_demo(prior, path, clip_siigma, z_dim)\n",
    "    path = random.choice(demo_paths_normal)\n",
    "    prior = add_demo(prior, path, clip_siigma, z_dim)\n",
    "    z3.append(prior)"
   ]
  },
  {
   "cell_type": "markdown",
   "metadata": {},
   "source": [
    "## 4回サンプリング"
   ]
  },
  {
   "cell_type": "code",
   "execution_count": 28,
   "metadata": {},
   "outputs": [],
   "source": [
    "import random\n",
    "\n",
    "z4 = []\n",
    "for i in range(30):\n",
    "    path = random.choice(demo_paths_normal)\n",
    "    prior = embedding_np(path, disable_pz, clip_siigma, z_dim)\n",
    "    path = random.choice(demo_paths_normal)\n",
    "    prior = add_demo(prior, path, clip_siigma, z_dim)\n",
    "    path = random.choice(demo_paths_normal)\n",
    "    prior = add_demo(prior, path, clip_siigma, z_dim)\n",
    "    path = random.choice(demo_paths_normal)\n",
    "    prior = add_demo(prior, path, clip_siigma, z_dim)\n",
    "    z4.append(prior)"
   ]
  },
  {
   "cell_type": "markdown",
   "metadata": {},
   "source": [
    "## 5回サンプリング"
   ]
  },
  {
   "cell_type": "code",
   "execution_count": 29,
   "metadata": {},
   "outputs": [],
   "source": [
    "import random\n",
    "\n",
    "z5 = []\n",
    "for i in range(30):\n",
    "    path = random.choice(demo_paths_normal)\n",
    "    prior = embedding_np(path, disable_pz, clip_siigma, z_dim)\n",
    "    path = random.choice(demo_paths_normal)\n",
    "    prior = add_demo(prior, path, clip_siigma, z_dim)\n",
    "    path = random.choice(demo_paths_normal)\n",
    "    prior = add_demo(prior, path, clip_siigma, z_dim)\n",
    "    path = random.choice(demo_paths_normal)\n",
    "    prior = add_demo(prior, path, clip_siigma, z_dim)\n",
    "    path = random.choice(demo_paths_normal)\n",
    "    prior = add_demo(prior, path, clip_siigma, z_dim)\n",
    "    z5.append(prior)"
   ]
  },
  {
   "cell_type": "code",
   "execution_count": 30,
   "metadata": {},
   "outputs": [],
   "source": [
    "z1_std = np.array([prior.stddev.cpu().numpy()[0] for prior in z1])\n",
    "z2_std = np.array([prior.stddev.cpu().numpy()[0] for prior in z2])\n",
    "z3_std = np.array([prior.stddev.cpu().numpy()[0] for prior in z3])\n",
    "z4_std = np.array([prior.stddev.cpu().numpy()[0] for prior in z4])\n",
    "z5_std = np.array([prior.stddev.cpu().numpy()[0] for prior in z5])"
   ]
  },
  {
   "cell_type": "code",
   "execution_count": 31,
   "metadata": {},
   "outputs": [
    {
     "data": {
      "image/png": "[encoded data removed]",
      "text/plain": [
       "<Figure size 360x288 with 1 Axes>"
      ]
     },
     "metadata": {},
     "output_type": "display_data"
    }
   ],
   "source": [
    "import matplotlib.pyplot as plt\n",
    "from utils import *\n",
    "\n",
    "fig, ax = plt_base(\"Number of samplings and Uncertainty\", figsize=(5,4))\n",
    "plt.hlines([0.7], -0.8, 5, \"red\", linestyles='dashed')\n",
    "plt.tick_params(labelsize=12)\n",
    "plt.bar([\"1\", \"2\", \"3\", \"4\", \"5\"], \\\n",
    "        [z1_std.mean(), z2_std.mean(), z3_std.mean(), z5_std.mean(), z5_std.mean()], \\\n",
    "        width=0.3, align=\"center\"); plt.show()"
   ]
  },
  {
   "cell_type": "code",
   "execution_count": null,
   "metadata": {},
   "outputs": [],
   "source": []
  },
  {
   "cell_type": "code",
   "execution_count": null,
   "metadata": {},
   "outputs": [],
   "source": []
  }
 ],
 "metadata": {
  "kernelspec": {
   "display_name": "Python 3",
   "language": "python",
   "name": "python3"
  },
  "language_info": {
   "codemirror_mode": {
    "name": "ipython",
    "version": 3
   },
   "file_extension": ".py",
   "mimetype": "text/x-python",
   "name": "python",
   "nbconvert_exporter": "python",
   "pygments_lexer": "ipython3",
   "version": "3.6.8"
  }
 },
 "nbformat": 4,
 "nbformat_minor": 2
}
