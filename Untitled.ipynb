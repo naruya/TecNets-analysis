{
 "cells": [
  {
   "cell_type": "code",
   "execution_count": 1,
   "metadata": {},
   "outputs": [],
   "source": [
    "import numpy as np\n",
    "import cv2\n",
    "from glob import glob\n",
    "import os\n",
    "from natsort import natsorted\n",
    "\n",
    "def vread(path, T=100):\n",
    "    cap = cv2.VideoCapture(path)\n",
    "    gif = [cap.read()[1][:,:,::-1] for i in range(T)]\n",
    "    gif = np.array(gif)\n",
    "    cap.release()\n",
    "    return gif\n",
    "\n",
    "def gif2img(path, name, T=100):\n",
    "    cap = cv2.VideoCapture(path)\n",
    "    gif = [cap.read()[1] for i in range(T)]\n",
    "    cap.release()\n",
    "    a = gif[0] # 64,64,3\n",
    "    b = gif[-1] # 64,64,3\n",
    "    c = np.vstack([a, b])\n",
    "    cv2.imwrite(name, c)"
   ]
  },
  {
   "cell_type": "code",
   "execution_count": 7,
   "metadata": {},
   "outputs": [],
   "source": [
    "!mkdir -p imgs/Hidden64"
   ]
  },
  {
   "cell_type": "code",
   "execution_count": 2,
   "metadata": {},
   "outputs": [],
   "source": [
    "demo_paths_normal = natsorted(glob(os.path.join(\"./demos_mini/Normal\", \"*.gif\")))\n",
    "demo_paths_freeze = natsorted(glob(os.path.join(\"./demos_mini/Freeze\", \"*.gif\")))\n",
    "demo_paths_random = natsorted(glob(os.path.join(\"./demos_mini/Random\", \"*.gif\")))\n",
    "demo_paths_no_obj = natsorted(glob(os.path.join(\"./demos_mini/No_Obj/\", \"*.gif\")))\n",
    "demo_paths_hidden64 = natsorted(glob(os.path.join(\"./demos_mini/Hidden64\", \"*.gif\")))"
   ]
  },
  {
   "cell_type": "code",
   "execution_count": 3,
   "metadata": {},
   "outputs": [],
   "source": [
    "# demo_paths_normal[0]"
   ]
  },
  {
   "cell_type": "code",
   "execution_count": 4,
   "metadata": {},
   "outputs": [],
   "source": [
    "def make_img(paths):\n",
    "    for path in paths:\n",
    "        path_to = os.path.join(\"imgs\",path.split(\"/\")[-2], path.split(\"/\")[-1])\n",
    "        path_to = path_to.split(\".\")[0] + \".png\"\n",
    "        gif2img(path, path_to)"
   ]
  },
  {
   "cell_type": "code",
   "execution_count": 8,
   "metadata": {},
   "outputs": [],
   "source": [
    "make_img(demo_paths_normal)\n",
    "make_img(demo_paths_freeze)\n",
    "make_img(demo_paths_random)\n",
    "make_img(demo_paths_no_obj)\n",
    "make_img(demo_paths_hidden64)"
   ]
  },
  {
   "cell_type": "code",
   "execution_count": 25,
   "metadata": {},
   "outputs": [
    {
     "data": {
      "text/plain": [
       "(100, 64, 64, 3)"
      ]
     },
     "execution_count": 25,
     "metadata": {},
     "output_type": "execute_result"
    }
   ],
   "source": [
    "a = vread(paths[0])\n",
    "a.shape"
   ]
  },
  {
   "cell_type": "code",
   "execution_count": 26,
   "metadata": {},
   "outputs": [
    {
     "name": "stdout",
     "output_type": "stream",
     "text": [
      "(128, 64, 3)\n",
      "[[[ 96  96  96]\n",
      "  [ 95  95  95]\n",
      "  [ 80  80  80]\n",
      "  ...\n",
      "  [ 50  50  50]\n",
      "  [ 52  52  52]\n",
      "  [ 54  54  54]]\n",
      "\n",
      " [[ 52  53  53]\n",
      "  [ 82  83  83]\n",
      "  [ 95  95  95]\n",
      "  ...\n",
      "  [ 50  50  51]\n",
      "  [ 52  52  52]\n",
      "  [ 54  54  54]]\n",
      "\n",
      " [[ 59  60  61]\n",
      "  [ 89  90  90]\n",
      "  [ 98  99 100]\n",
      "  ...\n",
      "  [ 61  62  63]\n",
      "  [ 53  53  53]\n",
      "  [ 54  54  54]]\n",
      "\n",
      " ...\n",
      "\n",
      " [[ 67 105 148]\n",
      "  [ 69 107 150]\n",
      "  [ 69 107 152]\n",
      "  ...\n",
      "  [ 83 130 186]\n",
      "  [ 83 130 186]\n",
      "  [ 85 134 186]]\n",
      "\n",
      " [[ 64 102 148]\n",
      "  [ 66 104 150]\n",
      "  [ 68 105 151]\n",
      "  ...\n",
      "  [ 85 134 186]\n",
      "  [ 85 134 186]\n",
      "  [ 85 134 186]]\n",
      "\n",
      " [[ 67 105 148]\n",
      "  [ 68 105 151]\n",
      "  [ 68 105 151]\n",
      "  ...\n",
      "  [ 85 134 186]\n",
      "  [ 85 134 186]\n",
      "  [ 85 134 186]]]\n"
     ]
    }
   ],
   "source": [
    "gif2img(paths[0], \"normal.png\")"
   ]
  },
  {
   "cell_type": "code",
   "execution_count": null,
   "metadata": {},
   "outputs": [],
   "source": []
  }
 ],
 "metadata": {
  "kernelspec": {
   "display_name": "Python 3",
   "language": "python",
   "name": "python3"
  },
  "language_info": {
   "codemirror_mode": {
    "name": "ipython",
    "version": 3
   },
   "file_extension": ".py",
   "mimetype": "text/x-python",
   "name": "python",
   "nbconvert_exporter": "python",
   "pygments_lexer": "ipython3",
   "version": "3.6.8"
  }
 },
 "nbformat": 4,
 "nbformat_minor": 2
}
