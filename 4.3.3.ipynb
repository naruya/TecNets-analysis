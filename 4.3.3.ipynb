{
 "cells": [
  {
   "cell_type": "markdown",
   "metadata": {},
   "source": [
    "# Task Uncertainty and Success Rate"
   ]
  },
  {
   "cell_type": "markdown",
   "metadata": {},
   "source": [
    "## meta-train-taskとmeta-test-task両方のsim_testのログが必要。"
   ]
  },
  {
   "cell_type": "code",
   "execution_count": 37,
   "metadata": {},
   "outputs": [
    {
     "name": "stdout",
     "output_type": "stream",
     "text": [
      "(444, 20) (444, 20)\n"
     ]
    }
   ],
   "source": [
    "import pickle\n",
    "import numpy as np\n",
    "import matplotlib.pyplot as plt\n",
    "%matplotlib inline\n",
    "\n",
    "# with open(\"logs_penuts/0708-013715_np_45_test_mini/results.pkl\", \"rb\") as f:\n",
    "with open(\"./logs/0705-134919_np_emb0_z20_7200_test/results.pkl\", \"rb\") as f:\n",
    "    results = pickle.load(f)\n",
    "\n",
    "test_means = np.array([np.squeeze(result['sentence']['mean']) for result in results])\n",
    "test_stds = np.array([np.squeeze(result['sentence']['stddev']) for result in results])\n",
    "test_scores = np.array([np.squeeze(result['success']) for result in results])\n",
    "test_paths = np.array([result['demo_path'] for result in results])\n",
    "print(test_means.shape, test_stds.shape)"
   ]
  },
  {
   "cell_type": "code",
   "execution_count": 38,
   "metadata": {},
   "outputs": [],
   "source": [
    "success = np.split(test_scores, 74)"
   ]
  },
  {
   "cell_type": "code",
   "execution_count": 39,
   "metadata": {},
   "outputs": [
    {
     "name": "stdout",
     "output_type": "stream",
     "text": [
      "[0.66666667 0.5        0.66666667 0.5        0.83333333 0.66666667\n",
      " 0.83333333 0.5        1.         1.         0.33333333 0.5\n",
      " 0.33333333 0.66666667 0.33333333 1.         0.66666667 0.66666667\n",
      " 1.         1.         1.         0.5        0.66666667 0.5\n",
      " 0.83333333 0.66666667 0.83333333 1.         0.66666667 0.33333333\n",
      " 0.66666667 0.5        1.         0.66666667 0.66666667 0.33333333\n",
      " 1.         0.66666667 0.5        0.66666667 1.         0.83333333\n",
      " 0.83333333 1.         0.66666667 1.         1.         0.66666667\n",
      " 0.66666667 0.66666667 0.83333333 0.66666667 0.5        0.5\n",
      " 0.16666667 0.5        0.33333333 0.16666667 0.         0.66666667\n",
      " 0.5        0.83333333 0.16666667 0.33333333 1.         0.83333333\n",
      " 0.83333333 0.83333333 0.33333333 1.         1.         1.\n",
      " 1.         0.83333333]\n",
      "(array([58]),)\n"
     ]
    }
   ],
   "source": [
    "success = np.array([np.mean(s) for s in success])\n",
    "print(success)\n",
    "print(np.where(success==0))"
   ]
  },
  {
   "cell_type": "code",
   "execution_count": 40,
   "metadata": {},
   "outputs": [
    {
     "name": "stdout",
     "output_type": "stream",
     "text": [
      "(769, 20) (769, 20)\n"
     ]
    }
   ],
   "source": [
    "import pickle\n",
    "import numpy as np\n",
    "import matplotlib.pyplot as plt\n",
    "%matplotlib inline\n",
    "\n",
    "# with open(\"logs_penuts/0708-020154_np_45_train_mini/results.pkl\", \"rb\") as f:\n",
    "with open(\"./logs/0705-160044_np_emb0_z20_7200_train/results.pkl\", \"rb\") as f:\n",
    "    results = pickle.load(f)\n",
    "\n",
    "train_means = np.array([np.squeeze(result['sentence']['mean']) for result in results])\n",
    "train_stds = np.array([np.squeeze(result['sentence']['stddev']) for result in results])\n",
    "train_scores = np.array([np.squeeze(result['success']) for result in results])\n",
    "train_paths = np.array([result['demo_path'] for result in results])\n",
    "print(train_means.shape, train_stds.shape)"
   ]
  },
  {
   "cell_type": "code",
   "execution_count": 41,
   "metadata": {},
   "outputs": [
    {
     "data": {
      "image/png": "[encoded data removed]",
      "text/plain": [
       "<Figure size 1080x720 with 10 Axes>"
      ]
     },
     "metadata": {
      "needs_background": "light"
     },
     "output_type": "display_data"
    }
   ],
   "source": [
    "plt.figure(figsize=(15,10))\n",
    "for d in range(10):\n",
    "    plt.subplot(4,5,1+d)\n",
    "    plt.hist(test_stds[:444,d], bins=100, color=\"r\", alpha=0.6); plt.yscale(\"log\")\n",
    "    plt.hist(train_stds[:444,d], bins=100, color=\"b\", alpha=0.6); plt.yscale(\"log\")\n",
    "plt.show()"
   ]
  },
  {
   "cell_type": "code",
   "execution_count": 42,
   "metadata": {},
   "outputs": [
    {
     "data": {
      "image/png": "[encoded data removed]",
      "text/plain": [
       "<Figure size 1080x720 with 10 Axes>"
      ]
     },
     "metadata": {
      "needs_background": "light"
     },
     "output_type": "display_data"
    }
   ],
   "source": [
    "plt.figure(figsize=(15,10))\n",
    "for d in range(10):\n",
    "    plt.subplot(4,5,1+d)\n",
    "    plt.hist(test_stds[:444,d], bins=100, color=\"r\", alpha=0.6)\n",
    "    plt.hist(train_stds[:444,d], bins=100, color=\"b\", alpha=0.6)\n",
    "plt.show()"
   ]
  },
  {
   "cell_type": "code",
   "execution_count": 43,
   "metadata": {},
   "outputs": [
    {
     "data": {
      "text/plain": [
       "array([[0.01051625, 0.01101127, 0.00729419, ..., 0.01225715, 0.03064026,\n",
       "        0.02945177],\n",
       "       [0.00404795, 0.0019777 , 0.01173011, ..., 0.00326745, 0.00566751,\n",
       "        0.00269138],\n",
       "       [0.01488708, 0.00283044, 0.0235815 , ..., 0.01251989, 0.00060248,\n",
       "        0.01593866],\n",
       "       ...,\n",
       "       [0.00087463, 0.00054218, 0.00100143, ..., 0.00167859, 0.00433236,\n",
       "        0.00080823],\n",
       "       [0.0022738 , 0.00064354, 0.00075066, ..., 0.00146439, 0.00072559,\n",
       "        0.00201968],\n",
       "       [0.00023891, 0.00022768, 0.00015102, ..., 0.00052726, 0.00039651,\n",
       "        0.0005299 ]], dtype=float32)"
      ]
     },
     "execution_count": 43,
     "metadata": {},
     "output_type": "execute_result"
    }
   ],
   "source": [
    "train_stds"
   ]
  },
  {
   "cell_type": "code",
   "execution_count": 50,
   "metadata": {},
   "outputs": [
    {
     "name": "stdout",
     "output_type": "stream",
     "text": [
      "train\n",
      "0.9895968790637191\n",
      "761 8\n",
      "0.7634691195795007 0.75\n",
      "\n",
      "test\n",
      "0.5604681404421327\n",
      "431 13\n",
      "0.6844547563805105 0.6153846153846154\n",
      "\n"
     ]
    }
   ],
   "source": [
    "from sklearn.svm import OneClassSVM\n",
    "clf = OneClassSVM(nu=0.01, kernel='linear') # nu=0.01~0.05\n",
    "clf.fit(np.log(train_stds))\n",
    "\n",
    "print(\"train\")\n",
    "# train_pred = clf.predict(train_stds)\n",
    "train_pred = clf.predict(np.log(train_stds))\n",
    "print(sum(train_pred == 1)/769)\n",
    "print(len(train_scores[train_pred==1]), len(train_scores[train_pred==-1]))\n",
    "print(np.mean(train_scores[train_pred==1]), np.mean(train_scores[train_pred==-1]))\n",
    "print()\n",
    "\n",
    "print(\"test\")\n",
    "# test_pred = clf.predict(test_stds)\n",
    "test_pred = clf.predict(np.log(test_stds))\n",
    "print(sum(test_pred == 1)/769)\n",
    "print(len(test_scores[test_pred==1]), len(test_scores[test_pred==-1]))\n",
    "print(np.mean(test_scores[test_pred==1]), np.mean(test_scores[test_pred==-1]))\n",
    "print()"
   ]
  },
  {
   "cell_type": "code",
   "execution_count": 51,
   "metadata": {},
   "outputs": [
    {
     "data": {
      "image/png": "[encoded data removed]",
      "text/plain": [
       "<Figure size 216x288 with 1 Axes>"
      ]
     },
     "metadata": {
      "needs_background": "light"
     },
     "output_type": "display_data"
    }
   ],
   "source": [
    "a = np.mean(test_scores[test_pred==1])\n",
    "b = np.mean(test_scores[test_pred==-1])\n",
    "\n",
    "plt.figure(figsize=(3,4)); plt.title(\"Success Rate\", fontsize=14)\n",
    "plt.ylim([0,0.8])\n",
    "plt.bar([\"\", \"Normal\",\"  \", \"Abnormal\", \" \"], [0, a,0, b, 0], width=0.3, align=\"center\"); plt.show()"
   ]
  },
  {
   "cell_type": "markdown",
   "metadata": {},
   "source": [
    "## 1つ以上の要素で必ず分散が大きくなっていることを確認。"
   ]
  },
  {
   "cell_type": "code",
   "execution_count": 52,
   "metadata": {},
   "outputs": [
    {
     "data": {
      "text/plain": [
       "array([0.2718314 , 0.12516266, 0.26023626, 0.20774217, 0.18963961,\n",
       "       0.24844098, 0.5293184 , 0.95493287, 0.07457595, 0.25062755,\n",
       "       0.1593556 , 0.33658224, 0.9361364 ], dtype=float32)"
      ]
     },
     "execution_count": 52,
     "metadata": {},
     "output_type": "execute_result"
    }
   ],
   "source": [
    "(test_stds[test_pred==-1] - test_stds.mean(0)).max(1)"
   ]
  },
  {
   "cell_type": "code",
   "execution_count": 53,
   "metadata": {},
   "outputs": [
    {
     "data": {
      "text/plain": [
       "array([0.27575293, 0.20086986, 0.24949184, 0.19227572, 0.10279831,\n",
       "       0.26612294, 0.0921471 , 0.23695758], dtype=float32)"
      ]
     },
     "execution_count": 53,
     "metadata": {},
     "output_type": "execute_result"
    }
   ],
   "source": [
    "(train_stds[train_pred==-1] - train_stds.mean(0)).max(1)"
   ]
  },
  {
   "cell_type": "code",
   "execution_count": null,
   "metadata": {},
   "outputs": [],
   "source": []
  },
  {
   "cell_type": "markdown",
   "metadata": {},
   "source": [
    "## 異常とみなされたデモ"
   ]
  },
  {
   "cell_type": "code",
   "execution_count": 54,
   "metadata": {},
   "outputs": [
    {
     "data": {
      "text/plain": [
       "array(['/root/matsushima/data_mini/sim_push/object_104/cond9.samp0.gif',\n",
       "       '/root/matsushima/data_mini/sim_push/object_179/cond9.samp0.gif',\n",
       "       '/root/matsushima/data_mini/sim_push/object_215/cond9.samp0.gif',\n",
       "       '/root/matsushima/data_mini/sim_push/object_453/cond9.samp0.gif',\n",
       "       '/root/matsushima/data_mini/sim_push/object_462/cond9.samp0.gif',\n",
       "       '/root/matsushima/data_mini/sim_push/object_498/cond9.samp0.gif',\n",
       "       '/root/matsushima/data_mini/sim_push/object_568/cond9.samp0.gif',\n",
       "       '/root/matsushima/data_mini/sim_push/object_736/cond9.samp0.gif'],\n",
       "      dtype='<U62')"
      ]
     },
     "execution_count": 54,
     "metadata": {},
     "output_type": "execute_result"
    }
   ],
   "source": [
    "train_paths[train_pred==-1]"
   ]
  },
  {
   "cell_type": "code",
   "execution_count": 55,
   "metadata": {},
   "outputs": [
    {
     "data": {
      "text/plain": [
       "array(['/root/matsushima/data_mini/sim_push_test/object_8/cond10.samp0.gif',\n",
       "       '/root/matsushima/data_mini/sim_push_test/object_9/cond12.samp0.gif',\n",
       "       '/root/matsushima/data_mini/sim_push_test/object_23/cond13.samp0.gif',\n",
       "       '/root/matsushima/data_mini/sim_push_test/object_39/cond10.samp0.gif',\n",
       "       '/root/matsushima/data_mini/sim_push_test/object_43/cond11.samp0.gif',\n",
       "       '/root/matsushima/data_mini/sim_push_test/object_49/cond14.samp0.gif',\n",
       "       '/root/matsushima/data_mini/sim_push_test/object_65/cond14.samp0.gif',\n",
       "       '/root/matsushima/data_mini/sim_push_test/object_66/cond11.samp0.gif',\n",
       "       '/root/matsushima/data_mini/sim_push_test/object_68/cond10.samp0.gif',\n",
       "       '/root/matsushima/data_mini/sim_push_test/object_71/cond11.samp0.gif',\n",
       "       '/root/matsushima/data_mini/sim_push_test/object_76/cond13.samp0.gif',\n",
       "       '/root/matsushima/data_mini/sim_push_test/object_83/cond9.samp0.gif',\n",
       "       '/root/matsushima/data_mini/sim_push_test/object_83/cond13.samp0.gif'],\n",
       "      dtype='<U67')"
      ]
     },
     "execution_count": 55,
     "metadata": {},
     "output_type": "execute_result"
    }
   ],
   "source": [
    "test_paths[test_pred==-1]"
   ]
  },
  {
   "cell_type": "code",
   "execution_count": null,
   "metadata": {},
   "outputs": [],
   "source": []
  },
  {
   "cell_type": "code",
   "execution_count": null,
   "metadata": {},
   "outputs": [],
   "source": []
  },
  {
   "cell_type": "code",
   "execution_count": null,
   "metadata": {},
   "outputs": [],
   "source": []
  }
 ],
 "metadata": {
  "kernelspec": {
   "display_name": "Python 3",
   "language": "python",
   "name": "python3"
  },
  "language_info": {
   "codemirror_mode": {
    "name": "ipython",
    "version": 3
   },
   "file_extension": ".py",
   "mimetype": "text/x-python",
   "name": "python",
   "nbconvert_exporter": "python",
   "pygments_lexer": "ipython3",
   "version": "3.6.8"
  }
 },
 "nbformat": 4,
 "nbformat_minor": 2
}
