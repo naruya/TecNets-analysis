{
 "cells": [
  {
   "cell_type": "markdown",
   "metadata": {},
   "source": [
    "# Inputting Out of Distribution Data"
   ]
  },
  {
   "cell_type": "raw",
   "metadata": {},
   "source": [
    "scp db:/share2/matsushima/workspace/meta_train/tecnet_np/logs/20190704-195301/emb_epoch24500* ./ && sudo mv emb* ~/workspace/analysis/models_penuts/"
   ]
  },
  {
   "cell_type": "code",
   "execution_count": 1,
   "metadata": {},
   "outputs": [
    {
     "data": {
      "text/plain": [
       "IncompatibleKeys(missing_keys=[], unexpected_keys=[])"
      ]
     },
     "execution_count": 1,
     "metadata": {},
     "output_type": "execute_result"
    }
   ],
   "source": [
    "from emb_net import TaskEmbeddingNet as PENUTS\n",
    "import torch\n",
    "\n",
    "model_path = \"./models_penuts/emb_epoch7200_0.0010.pt\"\n",
    "# model_path = \"./models_penuts/emb_epoch24500_0.0010_np_45.pt\"\n",
    "z_dim = 20\n",
    "disable_pz = True\n",
    "clip_siigma = False\n",
    "\n",
    "emb_net = PENUTS(z_dim=z_dim, disable_layernorm_fc=True).to(\"cuda\")\n",
    "emb_net.load_state_dict(torch.load(model_path, map_location=\"cuda\"))"
   ]
  },
  {
   "cell_type": "markdown",
   "metadata": {},
   "source": [
    "## Normal, Freeze, Random, No-Obj, Hidden"
   ]
  },
  {
   "cell_type": "code",
   "execution_count": 2,
   "metadata": {},
   "outputs": [
    {
     "name": "stdout",
     "output_type": "stream",
     "text": [
      "\u001b[0m\u001b[01;34mFreeze\u001b[0m/  \u001b[01;34mHidden50\u001b[0m/  \u001b[01;34mHidden64\u001b[0m/  \u001b[01;34mNo_Obj\u001b[0m/  \u001b[01;34mNormal\u001b[0m/  \u001b[01;34mRandom\u001b[0m/\n"
     ]
    }
   ],
   "source": [
    "ls demos/"
   ]
  },
  {
   "cell_type": "code",
   "execution_count": 3,
   "metadata": {},
   "outputs": [],
   "source": [
    "test_dir = \"../data/mil_data/data_mini/sim_push_test/\""
   ]
  },
  {
   "cell_type": "code",
   "execution_count": 4,
   "metadata": {},
   "outputs": [
    {
     "name": "stdout",
     "output_type": "stream",
     "text": [
      "90 90 90 90 90\n"
     ]
    }
   ],
   "source": [
    "import os\n",
    "from glob import glob\n",
    "from natsort import natsorted\n",
    "demo_paths_normal = natsorted(glob(os.path.join(\"./demos_mini/Normal\", \"*.gif\")))\n",
    "demo_paths_freeze = natsorted(glob(os.path.join(\"./demos_mini/Freeze\", \"*.gif\")))\n",
    "demo_paths_random = natsorted(glob(os.path.join(\"./demos_mini/Random\", \"*.gif\")))\n",
    "demo_paths_no_obj = natsorted(glob(os.path.join(\"./demos_mini/No_Obj/\", \"*.gif\")))\n",
    "demo_paths_hidden64 = natsorted(glob(os.path.join(\"./demos_mini/Hidden64\", \"*.gif\")))\n",
    "\n",
    "print(len(demo_paths_normal), len(demo_paths_freeze), len(demo_paths_random), len(demo_paths_no_obj), len(demo_paths_hidden64))"
   ]
  },
  {
   "cell_type": "code",
   "execution_count": 5,
   "metadata": {},
   "outputs": [],
   "source": [
    "demo_paths_all = {\"Normal\":demo_paths_normal, \"Freeze\":demo_paths_freeze, \\\n",
    "                  \"Random\":demo_paths_random, \"No_Obj\":demo_paths_no_obj, \\\n",
    "                  \"Hidden\":demo_paths_hidden64}"
   ]
  },
  {
   "cell_type": "code",
   "execution_count": 6,
   "metadata": {},
   "outputs": [],
   "source": [
    "import numpy as np\n",
    "from utils import vread, poe, make_emb_input\n",
    "from torch.distributions import Normal\n",
    "\n",
    "def embedding_np(demo_path, disable_pz, clip_sigma):\n",
    "    inp = make_emb_input(demo_path).to(\"cuda\")\n",
    "    \n",
    "    with torch.no_grad():\n",
    "        train_mu, train_logvar = torch.split(emb_net(inp), z_dim, dim=1)\n",
    "    if not clip_sigma:\n",
    "        train_scale = torch.exp(0.5 * train_logvar)\n",
    "    else:\n",
    "        train_scale = 0.1 + 0.9 * torch.sigmoid(train_logvar)\n",
    "    if disable_pz:\n",
    "        prior = Normal(train_mu, train_scale)\n",
    "    else:\n",
    "        standard_normal = Normal(torch.zeros(1, z_dim).to(\"cuda\"), torch.ones(1, z_dim).to(\"cuda\"))\n",
    "        prior = poe(standard_normal, Normal(train_mu, train_scale), z_dim)\n",
    "    # z = prior.mean\n",
    "    return {\"mean\": prior.mean.cpu().numpy()[0], \"stddev\":prior.stddev.cpu().numpy()[0]}"
   ]
  },
  {
   "cell_type": "code",
   "execution_count": 7,
   "metadata": {},
   "outputs": [],
   "source": [
    "embs = {}\n",
    "for k,demo_paths in demo_paths_all.items():\n",
    "    embs[k] = [embedding_np(path, disable_pz, clip_siigma) for path in demo_paths]"
   ]
  },
  {
   "cell_type": "code",
   "execution_count": 8,
   "metadata": {},
   "outputs": [],
   "source": [
    "means_normal = np.array([emb[\"mean\"] for emb in embs[\"Normal\"]])\n",
    "stds_normal = np.array([emb[\"stddev\"] for emb in embs[\"Normal\"]])\n",
    "\n",
    "means_freeze = np.array([emb[\"mean\"] for emb in embs[\"Freeze\"]])\n",
    "stds_freeze = np.array([emb[\"stddev\"] for emb in embs[\"Freeze\"]])\n",
    "\n",
    "means_random = np.array([emb[\"mean\"] for emb in embs[\"Random\"]])\n",
    "stds_random = np.array([emb[\"stddev\"] for emb in embs[\"Random\"]])\n",
    "\n",
    "means_no_obj = np.array([emb[\"mean\"] for emb in embs[\"No_Obj\"]])\n",
    "stds_no_obj = np.array([emb[\"stddev\"] for emb in embs[\"No_Obj\"]])\n",
    "\n",
    "means_hidden = np.array([emb[\"mean\"] for emb in embs[\"Hidden\"]])\n",
    "stds_hidden = np.array([emb[\"stddev\"] for emb in embs[\"Hidden\"]])"
   ]
  },
  {
   "cell_type": "code",
   "execution_count": 9,
   "metadata": {},
   "outputs": [],
   "source": [
    "s_normal = stds_normal.mean()\n",
    "s_freeze = stds_freeze.mean()\n",
    "s_random = stds_random.mean()\n",
    "s_no_obj = stds_no_obj.mean()\n",
    "s_hidden = stds_hidden.mean()"
   ]
  },
  {
   "cell_type": "code",
   "execution_count": 10,
   "metadata": {},
   "outputs": [
    {
     "data": {
      "text/plain": [
       "(0.0014133806, 0.10130883, 0.020347308, 0.027308175, 0.9267801)"
      ]
     },
     "execution_count": 10,
     "metadata": {},
     "output_type": "execute_result"
    }
   ],
   "source": [
    "s_normal, s_freeze, s_random, s_no_obj, s_hidden"
   ]
  },
  {
   "cell_type": "code",
   "execution_count": 11,
   "metadata": {},
   "outputs": [
    {
     "data": {
      "image/png": "[encoded data removed]",
      "text/plain": [
       "<Figure size 360x288 with 1 Axes>"
      ]
     },
     "metadata": {
      "needs_background": "light"
     },
     "output_type": "display_data"
    }
   ],
   "source": [
    "import matplotlib.pyplot as plt\n",
    "plt.figure(figsize=(5,4)); plt.title(\"stddev\", fontsize=14)\n",
    "plt.hlines([s_normal], -0.8, 5, \"red\", linestyles='dashed')\n",
    "plt.tick_params(labelsize=12)\n",
    "plt.bar([\"Normal\", \"Freeze\", \"Random\", \"No Obj\", \"Hidden\"], \\\n",
    "        [s_normal, s_freeze, s_random, s_no_obj, s_hidden], \\\n",
    "        width=0.3, align=\"center\"); plt.yscale('log'); plt.show()"
   ]
  },
  {
   "cell_type": "markdown",
   "metadata": {},
   "source": [
    "## 箱ひげ図にするべきかも…"
   ]
  },
  {
   "cell_type": "code",
   "execution_count": null,
   "metadata": {},
   "outputs": [],
   "source": []
  },
  {
   "cell_type": "code",
   "execution_count": null,
   "metadata": {},
   "outputs": [],
   "source": []
  }
 ],
 "metadata": {
  "kernelspec": {
   "display_name": "Python 3",
   "language": "python",
   "name": "python3"
  },
  "language_info": {
   "codemirror_mode": {
    "name": "ipython",
    "version": 3
   },
   "file_extension": ".py",
   "mimetype": "text/x-python",
   "name": "python",
   "nbconvert_exporter": "python",
   "pygments_lexer": "ipython3",
   "version": "3.6.8"
  }
 },
 "nbformat": 4,
 "nbformat_minor": 2
}
